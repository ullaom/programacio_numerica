{
 "cells": [
  {
   "cell_type": "markdown",
   "metadata": {},
   "source": [
    "# Exercici 1\n",
    "\n",
    "Crea una funció que donat un Array d’una dimensió, et faci un resum estadístic bàsic de les dades. Si detecta que l’array té més d’una dimensió, ha de mostrar un missatge d’error."
   ]
  },
  {
   "cell_type": "code",
   "execution_count": 1,
   "metadata": {},
   "outputs": [
    {
     "name": "stdout",
     "output_type": "stream",
     "text": [
      "arr =  [1 2 3 4 5 6 8 9]\n",
      "Dimensió del array es  1\n"
     ]
    }
   ],
   "source": [
    "import numpy as np\n",
    "\n",
    "arr = np.array([1, 2, 3, 4, 5, 6, 8, 9])\n",
    "\n",
    "print(\"arr = \", arr) \n",
    "\n",
    "print(\"Dimensió del array es \", arr.ndim) "
   ]
  },
  {
   "cell_type": "code",
   "execution_count": 2,
   "metadata": {},
   "outputs": [],
   "source": [
    "def estadistic (arr):\n",
    "    if arr.ndim > 1:\n",
    "        print(\"Error!!!\")\n",
    "    else:\n",
    "        min_ = np.amin(arr)\n",
    "        max_ = np.amax(arr)\n",
    "        range_ = np.ptp(arr)\n",
    "        variance = np.var(arr)\n",
    "        sd = np.std(arr)\n",
    "        mean = np.mean(arr)\n",
    "        median = np.median(arr)\n",
    "\n",
    "        print (\"Resum estadístic\")\n",
    "        print (\"Minimum =\", min_)\n",
    "        print(\"Maximum =\",max_)\n",
    "        print(\"Range =\",range_)\n",
    "        print(\"Variance =\",variance)\n",
    "        print(\"Standard Deviation =\", sd)\n",
    "        print(\"Mean =\", mean)\n",
    "        print(\"Median =\", median)    "
   ]
  },
  {
   "cell_type": "code",
   "execution_count": 3,
   "metadata": {},
   "outputs": [
    {
     "name": "stdout",
     "output_type": "stream",
     "text": [
      "Resum estadístic\n",
      "Minimum = 1\n",
      "Maximum = 9\n",
      "Range = 8\n",
      "Variance = 6.9375\n",
      "Standard Deviation = 2.6339134382131846\n",
      "Mean = 4.75\n",
      "Median = 4.5\n"
     ]
    }
   ],
   "source": [
    "estadistic (arr)"
   ]
  },
  {
   "cell_type": "markdown",
   "metadata": {},
   "source": [
    "# Exercici 2\n",
    "\n",
    "Crea una funció que et generi un quadrat NxN de nombres aleatoris entre el 0 i el 100."
   ]
  },
  {
   "cell_type": "code",
   "execution_count": 4,
   "metadata": {},
   "outputs": [
    {
     "name": "stdout",
     "output_type": "stream",
     "text": [
      "[[44 21  1 64 81]\n",
      " [43 56 90 65 48]\n",
      " [41 13 27 75 48]\n",
      " [99 34 24 58 23]\n",
      " [48  3 49 20 87]]\n"
     ]
    }
   ],
   "source": [
    "\n",
    "import random\n",
    "\n",
    "import numpy as np\n",
    "\n",
    "def random_matrix (R, cols):\n",
    "\n",
    "        matrix = []\n",
    "\n",
    "        rows =  0\n",
    "         \n",
    "          \n",
    "\n",
    "        while  rows < cols:\n",
    "\n",
    "            N = random.sample(R ,cols)\n",
    "\n",
    "            matrix.append(N)\n",
    "\n",
    "            rows = rows + 1\n",
    "            \n",
    "\n",
    "        return np.array(matrix)\n",
    "\n",
    "print(random_matrix (range(100),5))"
   ]
  },
  {
   "cell_type": "code",
   "execution_count": 5,
   "metadata": {},
   "outputs": [
    {
     "data": {
      "text/plain": [
       "array([[79,  6, 98, 47, 36, 52, 66, 54, 73, 39],\n",
       "       [12, 64, 29, 30, 96, 91, 98, 60, 18, 82],\n",
       "       [97, 76, 96, 43, 99,  6, 11, 69, 93, 27],\n",
       "       [97, 62, 69, 85, 89,  0, 31, 28, 98, 70],\n",
       "       [45, 34, 85, 54, 81, 87, 25, 18, 55,  1],\n",
       "       [21, 49, 30, 40, 35, 18, 95, 16, 28, 75],\n",
       "       [61, 77, 66, 41, 80, 47, 55, 32,  6, 88],\n",
       "       [47, 24, 62, 66, 54, 23, 99, 95, 79, 82],\n",
       "       [55, 77, 19, 67, 97, 82, 58, 26, 33,  1],\n",
       "       [49, 96, 41, 53, 13, 44, 95, 30, 68, 70]])"
      ]
     },
     "execution_count": 5,
     "metadata": {},
     "output_type": "execute_result"
    }
   ],
   "source": [
    "random_matrix(range(100),10)"
   ]
  },
  {
   "cell_type": "markdown",
   "metadata": {},
   "source": [
    "## Exercici 3\n",
    "\n",
    "Crea una funció que donada una taula de dues dimensions (NxM), et calculi els totals per fila i els totals per columna."
   ]
  },
  {
   "cell_type": "code",
   "execution_count": 6,
   "metadata": {},
   "outputs": [],
   "source": [
    "import numpy as np\n",
    "\n",
    "arr = ([10,23,35],[74,35,96],[75,58,39])\n",
    "\n",
    "\n",
    "def suma_arr(arr):\n",
    "    print(arr)\n",
    "    sum_filas = np.sum(arr, axis = 0)\n",
    "    print(\"\\nSuma de las filas: \\n\", sum_filas)\n",
    "\n",
    "    sum_columnas = np.sum(arr, axis = 1)\n",
    "    print(\"\\nSuma de las  columnas: \\n\", sum_columnas)"
   ]
  },
  {
   "cell_type": "code",
   "execution_count": 7,
   "metadata": {},
   "outputs": [
    {
     "name": "stdout",
     "output_type": "stream",
     "text": [
      "([10, 23, 35], [74, 35, 96], [75, 58, 39])\n",
      "\n",
      "Suma de las filas: \n",
      " [159 116 170]\n",
      "\n",
      "Suma de las  columnas: \n",
      " [ 68 205 172]\n"
     ]
    }
   ],
   "source": [
    "suma_arr(arr)"
   ]
  },
  {
   "cell_type": "markdown",
   "metadata": {},
   "source": [
    "## Exercici 4\n",
    "\n",
    "Implementa manualment una funció que calculi el coeficient de correlació. Informa-te'n sobre els seus usos i interpretació."
   ]
  },
  {
   "cell_type": "markdown",
   "metadata": {},
   "source": [
    "\n",
    "## Pearson's correlation coefficient = covariance(X, Y) / (stdv(X) * stdv(Y))"
   ]
  },
  {
   "cell_type": "code",
   "execution_count": 15,
   "metadata": {},
   "outputs": [],
   "source": [
    "\n",
    "import math\n",
    "def correlationCoefficient(X, Y, n) :\n",
    "    sum_X = 0\n",
    "    sum_Y = 0\n",
    "    sum_XY = 0\n",
    "    squareSum_X = 0\n",
    "    squareSum_Y = 0\n",
    "    n = len(X)\n",
    "\n",
    "    i = 0\n",
    "    while i < n :\n",
    "        # suma de los elementos del array X.\n",
    "        sum_X = sum_X + X[i]\n",
    "        \n",
    "        # suma de los elementos del array Y.\n",
    "        sum_Y = sum_Y + Y[i]\n",
    "        \n",
    "        # suma de X[i] * Y[i].\n",
    "        sum_XY = sum_XY + X[i] * Y[i]\n",
    "        \n",
    "\n",
    "        # suma del cuadrado de los elementos del array.\n",
    "        squareSum_X = squareSum_X + X[i] * X[i]\n",
    "        squareSum_Y = squareSum_Y + Y[i] * Y[i]\n",
    "\n",
    "        i = i + 1\n",
    "        \n",
    "    # usamos la formula para calcular el coeficiente de correlación.\n",
    "    corr = (float)(n * sum_XY - sum_X * sum_Y)/(float)(math.sqrt((n * squareSum_X -sum_X * sum_X)* (n * squareSum_Y -sum_Y * sum_Y)))\n",
    "    return corr\n",
    "\n"
   ]
  },
  {
   "cell_type": "code",
   "execution_count": 16,
   "metadata": {},
   "outputs": [],
   "source": [
    "X = [15, 18, 21, 24, 27]\n",
    "Y = [25, 25, 27, 31, 32]\n",
    "n = len(X)"
   ]
  },
  {
   "cell_type": "code",
   "execution_count": 17,
   "metadata": {},
   "outputs": [
    {
     "data": {
      "text/plain": [
       "0.9534625892455922"
      ]
     },
     "execution_count": 17,
     "metadata": {},
     "output_type": "execute_result"
    }
   ],
   "source": [
    "correlationCoefficient(X,Y,n)"
   ]
  },
  {
   "cell_type": "code",
   "execution_count": 18,
   "metadata": {},
   "outputs": [
    {
     "data": {
      "text/plain": [
       "array([[1.        , 0.95346259],\n",
       "       [0.95346259, 1.        ]])"
      ]
     },
     "execution_count": 18,
     "metadata": {},
     "output_type": "execute_result"
    }
   ],
   "source": [
    "#Comprobamos que es correcto:\n",
    "np.corrcoef(X, Y)\n",
    "\n"
   ]
  },
  {
   "cell_type": "markdown",
   "metadata": {},
   "source": [
    "#### El coeficiente de correlación de Pearson mide la asociación lineal entre variables. Su valor se puede interpretar así:\n",
    "\n",
    "   \n"
   ]
  },
  {
   "cell_type": "markdown",
   "metadata": {},
   "source": [
    "El valor del índice de correlación varía en el intervalo [ − 1 , 1 ] , indicando el signo el sentido de la relación:\n",
    "\n",
    "### Si r = 1 \n",
    "    existe una correlación positiva perfecta. El índice indica una dependencia total entre las dos variables denominada relación directa: cuando una de ellas aumenta, la otra también lo hace en proporción constante.\n",
    "### Si 0 < r < 1  \n",
    "    entonces existe una correlación positiva.\n",
    "### Si r = 0 \n",
    "    entonces no existe relación lineal pero esto no necesariamente implica que las variables son independientes: pueden existir todavía relaciones no lineales entre las dos variables.\n",
    "### Si − 1 < r < 0 \n",
    "    existe una correlación negativa.\n",
    "### Si r = − 1  \n",
    "    existe una correlación negativa perfecta. El índice indica una dependencia total entre las dos variables    llamada relación opuesta: cuando una de ellas aumenta, la otra cambia su signo en proporción constante."
   ]
  },
  {
   "cell_type": "code",
   "execution_count": null,
   "metadata": {},
   "outputs": [],
   "source": []
  }
 ],
 "metadata": {
  "kernelspec": {
   "display_name": "Python 3",
   "language": "python",
   "name": "python3"
  },
  "language_info": {
   "codemirror_mode": {
    "name": "ipython",
    "version": 3
   },
   "file_extension": ".py",
   "mimetype": "text/x-python",
   "name": "python",
   "nbconvert_exporter": "python",
   "pygments_lexer": "ipython3",
   "version": "3.8.5"
  },
  "latex_envs": {
   "LaTeX_envs_menu_present": true,
   "autoclose": false,
   "autocomplete": true,
   "bibliofile": "biblio.bib",
   "cite_by": "apalike",
   "current_citInitial": 1,
   "eqLabelWithNumbers": true,
   "eqNumInitial": 1,
   "hotkeys": {
    "equation": "Ctrl-E",
    "itemize": "Ctrl-I"
   },
   "labels_anchors": false,
   "latex_user_defs": false,
   "report_style_numbering": false,
   "user_envs_cfg": false
  },
  "nbTranslate": {
   "displayLangs": [
    "*"
   ],
   "hotkey": "alt-t",
   "langInMainMenu": true,
   "sourceLang": "en",
   "targetLang": "fr",
   "useGoogleTranslate": true
  }
 },
 "nbformat": 4,
 "nbformat_minor": 4
}
